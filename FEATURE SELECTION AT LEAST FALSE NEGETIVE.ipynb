{
 "cells": [
  {
   "cell_type": "code",
   "execution_count": 1,
   "id": "ec7c0f7b",
   "metadata": {},
   "outputs": [],
   "source": [
    "import numpy as np\n",
    "import pandas as pd\n",
    "import sklearn as sk\n",
    "from sklearn.model_selection import train_test_split\n",
    "from sklearn.datasets import load_breast_cancer\n",
    "from random import randint as rnd\n",
    "EPOCH=200"
   ]
  },
  {
   "cell_type": "code",
   "execution_count": 2,
   "id": "0ff70dc5",
   "metadata": {},
   "outputs": [],
   "source": [
    "def sajad_knN(k):\n",
    "    distance=[]\n",
    "    distances=[]\n",
    "    def euclidian(a,b):\n",
    "        return np.sqrt(sum((a-b)**2))\n",
    "    points=[]\n",
    "    \n",
    "    for i in range(len(y_test)):\n",
    "        points.append(X_test[i])\n",
    "        \n",
    "    \n",
    "    \n",
    "    for j in points:\n",
    "        distance=[euclidian(j,i) for i in X_train]\n",
    "        sort_disctance=np.argsort(distance)\n",
    "        k_distance=sort_disctance[:k]\n",
    "        label_distance=[y_train[i] for i in k_distance]\n",
    "        distances.append(label_distance)\n",
    "        \n",
    "        \n",
    "        \n",
    "        \n",
    "    mypredict=[]\n",
    "    for targets in distances:\n",
    "        if targets.count(1)>targets.count(0): \n",
    "            mypredict.append(1)\n",
    "        else:\n",
    "            mypredict.append(0)   \n",
    "        \n",
    "        \n",
    "    myscore=0\n",
    "    global fn\n",
    "    fn=0\n",
    "    fp=0\n",
    "    tp=0\n",
    "    tn=0\n",
    "    \n",
    "    j=0\n",
    "    for i in mypredict:\n",
    "        if i==0 and y_test[j]==0:\n",
    "            tn+=1\n",
    "        elif i==0 and y_test[j]==1:\n",
    "            fn+=1\n",
    "        elif i==1 and y_test[j]==1:\n",
    "            tp+=1\n",
    "        elif i==1 and y_test[j]==0:\n",
    "            fp+=1\n",
    "        j+=1\n",
    "    \n",
    "        global accuracy\n",
    "        accuracy=(tn+tp)/len(y_test)*100\n",
    "        \n",
    "    return(accuracy)"
   ]
  },
  {
   "cell_type": "code",
   "execution_count": 3,
   "id": "161d5bdf",
   "metadata": {},
   "outputs": [],
   "source": [
    "data=load_breast_cancer()\n"
   ]
  },
  {
   "cell_type": "code",
   "execution_count": 4,
   "id": "8147eef2",
   "metadata": {},
   "outputs": [],
   "source": [
    "parent=[ rnd(0,1) for i in range(30)]\n",
    "parent_indicies=[i for i in range(30) if parent[i]==1]"
   ]
  },
  {
   "cell_type": "code",
   "execution_count": 5,
   "id": "92d308b1",
   "metadata": {},
   "outputs": [],
   "source": [
    "X=data.data[:,parent_indicies]\n",
    "y=data.target"
   ]
  },
  {
   "cell_type": "code",
   "execution_count": 6,
   "id": "65a166c7",
   "metadata": {},
   "outputs": [],
   "source": [
    "X_train,X_test,y_train,y_test=train_test_split(X,y,test_size=0.1, random_state=123)"
   ]
  },
  {
   "cell_type": "code",
   "execution_count": 7,
   "id": "44a58d4f",
   "metadata": {},
   "outputs": [],
   "source": [
    "parent_acc=sajad_knN(11)"
   ]
  },
  {
   "cell_type": "code",
   "execution_count": 8,
   "id": "55c71a33",
   "metadata": {},
   "outputs": [
    {
     "name": "stdout",
     "output_type": "stream",
     "text": [
      "87.71929824561403\n"
     ]
    }
   ],
   "source": [
    "print(parent_acc)"
   ]
  },
  {
   "cell_type": "code",
   "execution_count": null,
   "id": "4d1a4404",
   "metadata": {},
   "outputs": [],
   "source": [
    "while EPOCH>=0:\n",
    "    child=parent.copy()\n",
    "    cell=rnd(0,29)\n",
    "    child[cell]= 1 if parent[cell]==0 else 0\n",
    "    child_indicies=[i for i in range(30) if child[i]==1]\n",
    "    X=data.data[:,child_indicies]\n",
    "    y=data.target\n",
    "    X_train,X_test,y_train,y_test=train_test_split(X,y,test_size=0.1,random_state=123)\n",
    "    child_acc=sajad_knN(11)\n",
    "    if child_acc>=parent_acc:\n",
    "        parent=child.copy()\n",
    "        parent_acc=child_acc\n",
    "        \n",
    "    \n",
    "    EPOCH-=1\n",
    "print(f\"child_indicies {child_indicies}\")"
   ]
  },
  {
   "cell_type": "code",
   "execution_count": null,
   "id": "77af199e",
   "metadata": {},
   "outputs": [],
   "source": [
    "print(parent_acc)\n",
    "print(child_acc)"
   ]
  },
  {
   "cell_type": "code",
   "execution_count": null,
   "id": "a76c2f64",
   "metadata": {},
   "outputs": [],
   "source": []
  }
 ],
 "metadata": {
  "kernelspec": {
   "display_name": "Python 3 (ipykernel)",
   "language": "python",
   "name": "python3"
  },
  "language_info": {
   "codemirror_mode": {
    "name": "ipython",
    "version": 3
   },
   "file_extension": ".py",
   "mimetype": "text/x-python",
   "name": "python",
   "nbconvert_exporter": "python",
   "pygments_lexer": "ipython3",
   "version": "3.8.5"
  }
 },
 "nbformat": 4,
 "nbformat_minor": 5
}
